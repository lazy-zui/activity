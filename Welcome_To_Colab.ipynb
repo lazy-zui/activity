{
  "cells": [
    {
      "cell_type": "markdown",
      "source": [
        "# New Section"
      ],
      "metadata": {
        "id": "26qr1dMJ-56r"
      }
    },
    {
      "source": [
        "def rectangle(m, n):\n",
        "  \"\"\"Prints an m x n box consisting of asterisks.\n",
        "\n",
        "  Args:\n",
        "    m: The number of rows in the box.\n",
        "    n: The number of columns in the box.\n",
        "  \"\"\"\n",
        "  for _ in range(m):\n",
        "    print(\"*\" * n)\n",
        "\n",
        "# Example usage:\n",
        "rectangle(2, 4)  # Prints:\n",
        "# ****\n",
        "# ****"
      ],
      "cell_type": "code",
      "metadata": {
        "colab": {
          "base_uri": "https://localhost:8080/"
        },
        "id": "JV-RavwF_ZvZ",
        "outputId": "7d9ab331-1480-473c-bbcc-30f6013c248b"
      },
      "execution_count": 3,
      "outputs": [
        {
          "output_type": "stream",
          "name": "stdout",
          "text": [
            "****\n",
            "****\n"
          ]
        }
      ]
    },
    {
      "source": [
        "# (a) Modifies the original list\n",
        "def add_excitement(string_list):\n",
        "  \"\"\"Adds an exclamation point to the end of each string in the list.\n",
        "\n",
        "  Args:\n",
        "    string_list: The list of strings to modify.\n",
        "  \"\"\"\n",
        "  for i in range(len(string_list)):\n",
        "    string_list[i] += \"!\"\n",
        "\n",
        "# (b) Returns a new list\n",
        "def add_excitement_new(string_list):\n",
        "  \"\"\"Returns a new list with exclamation points added to each string.\n",
        "\n",
        "  Args:\n",
        "    string_list: The list of strings.\n",
        "  \"\"\"\n",
        "  new_list = []\n",
        "  for string in string_list:\n",
        "    new_list.append(string + \"!\")\n",
        "  return new_list\n",
        "\n",
        "# Example usage:\n",
        "my_list = [\"hello\", \"world\"]\n",
        "add_excitement(my_list)  # Modifies my_list directly\n",
        "print(my_list)  # Output: ['hello!', 'world!']\n",
        "\n",
        "new_list = add_excitement_new(my_list)\n",
        "print(new_list)  # Output: ['hello!!', 'world!!']"
      ],
      "cell_type": "code",
      "metadata": {
        "colab": {
          "base_uri": "https://localhost:8080/"
        },
        "id": "52q88kx-_gL3",
        "outputId": "7d26cbb9-6bf0-427b-ab75-3d9e2bf6e771"
      },
      "execution_count": 4,
      "outputs": [
        {
          "output_type": "stream",
          "name": "stdout",
          "text": [
            "['hello!', 'world!']\n",
            "['hello!!', 'world!!']\n"
          ]
        }
      ]
    },
    {
      "source": [
        "def sum_digits(num):\n",
        "  \"\"\"Returns the sum of the digits of an integer.\n",
        "\n",
        "  Args:\n",
        "    num: The integer to sum the digits of.\n",
        "  \"\"\"\n",
        "  total = 0\n",
        "  for digit in str(num):\n",
        "    total += int(digit)\n",
        "  return total\n",
        "\n",
        "# Example usage:\n",
        "result = sum_digits(12345)\n",
        "print(result)  # Output: 15"
      ],
      "cell_type": "code",
      "metadata": {
        "colab": {
          "base_uri": "https://localhost:8080/"
        },
        "id": "kRUi9rjl_oYa",
        "outputId": "fc56ee82-00f0-4e17-fccc-3b4ed08ffeec"
      },
      "execution_count": 5,
      "outputs": [
        {
          "output_type": "stream",
          "name": "stdout",
          "text": [
            "15\n"
          ]
        }
      ]
    },
    {
      "source": [
        "def digital_root(n):\n",
        "  \"\"\"Returns the digital root of an integer.\n",
        "\n",
        "  Args:\n",
        "    n: The integer to calculate the digital root of.\n",
        "  \"\"\"\n",
        "  while n >= 10:\n",
        "    n = sum_digits(n)  # Re-use the sum_digits function\n",
        "  return n\n",
        "\n",
        "# Example usage:\n",
        "root = digital_root(45893)\n",
        "print(root)  # Output: 2"
      ],
      "cell_type": "code",
      "metadata": {
        "colab": {
          "base_uri": "https://localhost:8080/"
        },
        "id": "dyNM0Cx3_3yC",
        "outputId": "741288bc-6795-4290-b19a-8cd7800fcd7d"
      },
      "execution_count": 6,
      "outputs": [
        {
          "output_type": "stream",
          "name": "stdout",
          "text": [
            "2\n"
          ]
        }
      ]
    },
    {
      "source": [
        "def first_diff(str1, str2):\n",
        "  \"\"\"Returns the first location where two strings differ, or -1 if identical.\n",
        "\n",
        "  Args:\n",
        "    str1: The first string.\n",
        "    str2: The second string.\n",
        "  \"\"\"\n",
        "  for i in range(min(len(str1), len(str2))):\n",
        "    if str1[i] != str2[i]:\n",
        "      return i\n",
        "  return -1 if str1 == str2 else min(len(str1), len(str2))\n",
        "\n",
        "\n",
        "# Example usage:\n",
        "index = first_diff(\"hello\", \"helloo\")\n",
        "print(index)  # Output: 4\n",
        "index = first_diff(\"hello\", \"hello\")\n",
        "print(index)  # Output: -1"
      ],
      "cell_type": "code",
      "metadata": {
        "colab": {
          "base_uri": "https://localhost:8080/"
        },
        "id": "MBe1zSb6AHW6",
        "outputId": "57d8b5da-3a68-44e4-b793-e84018a74992"
      },
      "execution_count": 7,
      "outputs": [
        {
          "output_type": "stream",
          "name": "stdout",
          "text": [
            "5\n",
            "-1\n"
          ]
        }
      ]
    },
    {
      "source": [
        "import math\n",
        "\n",
        "def binom(n, k):\n",
        "  \"\"\"Calculates the binomial coefficient (n choose k).\n",
        "\n",
        "  Args:\n",
        "    n: The total number of items.\n",
        "    k: The number of items to choose.\n",
        "  \"\"\"\n",
        "  return math.comb(n, k)\n",
        "\n",
        "# Example usage:\n",
        "result = binom(5, 2)\n",
        "print(result)  # Output: 10"
      ],
      "cell_type": "code",
      "metadata": {
        "colab": {
          "base_uri": "https://localhost:8080/"
        },
        "id": "eWwwPT_jAKtU",
        "outputId": "feacfec2-2aad-4fb0-dea8-efa1fb36bb98"
      },
      "execution_count": 8,
      "outputs": [
        {
          "output_type": "stream",
          "name": "stdout",
          "text": [
            "10\n"
          ]
        }
      ]
    },
    {
      "source": [
        "import random\n",
        "\n",
        "def random_n_digit_integer(n):\n",
        "  \"\"\"Returns a random integer with exactly n digits.\n",
        "\n",
        "  Args:\n",
        "    n: The desired number of digits.\n",
        "  \"\"\"\n",
        "  if n <= 0:\n",
        "    raise ValueError(\"n must be a positive integer\")  # Handle invalid input\n",
        "\n",
        "  lower_bound = 10**(n - 1)  # Smallest n-digit number\n",
        "  upper_bound = 10**n - 1   # Largest n-digit number\n",
        "\n",
        "  return random.randint(lower_bound, upper_bound)\n",
        "\n",
        "# Example usage:\n",
        "num = random_n_digit_integer(3)\n",
        "print(num)  # Output: (A random 3-digit number)"
      ],
      "cell_type": "code",
      "metadata": {
        "colab": {
          "base_uri": "https://localhost:8080/"
        },
        "id": "EPz6pH77B27P",
        "outputId": "d546be87-02d6-4d00-c18a-095087a6e118"
      },
      "execution_count": 9,
      "outputs": [
        {
          "output_type": "stream",
          "name": "stdout",
          "text": [
            "665\n"
          ]
        }
      ]
    },
    {
      "source": [
        "def number_of_factors(num):\n",
        "  \"\"\"Returns the number of factors of an integer.\n",
        "\n",
        "  Args:\n",
        "    num: The integer to find the factors of.\n",
        "  \"\"\"\n",
        "  count = 0\n",
        "  for i in range(1, num + 1):\n",
        "    if num % i == 0:\n",
        "      count += 1\n",
        "  return count\n",
        "\n",
        "# Example usage:\n",
        "num_factors = number_of_factors(12)\n",
        "print(num_factors)  # Output: 6"
      ],
      "cell_type": "code",
      "metadata": {
        "colab": {
          "base_uri": "https://localhost:8080/"
        },
        "id": "LTxwSdJrCOXk",
        "outputId": "60a18792-b0e3-4686-d6ce-5cb49261ccc1"
      },
      "execution_count": 10,
      "outputs": [
        {
          "output_type": "stream",
          "name": "stdout",
          "text": [
            "6\n"
          ]
        }
      ]
    },
    {
      "source": [
        "def factors(num):\n",
        "  \"\"\"Returns a list of factors of an integer.\n",
        "\n",
        "  Args:\n",
        "    num: The integer to find the factors of.\n",
        "  \"\"\"\n",
        "  factor_list = []\n",
        "  for i in range(1, num + 1):\n",
        "    if num % i == 0:\n",
        "      factor_list.append(i)\n",
        "  return factor_list\n",
        "\n",
        "# Example usage:\n",
        "factor_list = factors(12)\n",
        "print(factor_list)  # Output: [1, 2, 3, 4, 6, 12]"
      ],
      "cell_type": "code",
      "metadata": {
        "colab": {
          "base_uri": "https://localhost:8080/"
        },
        "id": "G3hqKKrfClOL",
        "outputId": "577185e4-ae1b-4c83-9610-3d13175341cd"
      },
      "execution_count": 11,
      "outputs": [
        {
          "output_type": "stream",
          "name": "stdout",
          "text": [
            "[1, 2, 3, 4, 6, 12]\n"
          ]
        }
      ]
    },
    {
      "source": [
        "def closest(L, n):\n",
        "  \"\"\"Returns the largest element in L that is not larger than n.\n",
        "\n",
        "  Args:\n",
        "    L: The list of numbers.\n",
        "    n: The target number.\n",
        "  \"\"\"\n",
        "  closest_num = None  # Initialize to None to handle cases where all elements are larger than n\n",
        "  for num in L:\n",
        "    if num <= n and (closest_num is None or num > closest_num):\n",
        "      closest_num = num\n",
        "  return closest_num\n",
        "\n",
        "# Example usage:\n",
        "L = [1, 6, 3, 9, 11]\n",
        "n = 8\n",
        "closest_num = closest(L, n)\n",
        "print(closest_num)  # Output: 6"
      ],
      "cell_type": "code",
      "metadata": {
        "colab": {
          "base_uri": "https://localhost:8080/"
        },
        "id": "vpNSBFLyC3rD",
        "outputId": "11d2354d-d8e3-492e-a840-c127bb7f819a"
      },
      "execution_count": 13,
      "outputs": [
        {
          "output_type": "stream",
          "name": "stdout",
          "text": [
            "6\n"
          ]
        }
      ]
    }
  ],
  "metadata": {
    "colab": {
      "name": "Welcome To Colab",
      "toc_visible": true,
      "provenance": []
    },
    "kernelspec": {
      "display_name": "Python 3",
      "name": "python3"
    }
  },
  "nbformat": 4,
  "nbformat_minor": 0
}